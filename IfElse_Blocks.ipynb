{
 "cells": [
  {
   "cell_type": "markdown",
   "metadata": {
    "cell_id": "00001-5a27c095-ae55-47d4-ac48-d1137fcbc161",
    "deepnote_cell_type": "markdown",
    "tags": []
   },
   "source": [
    "# If-else Blocks\n",
    "## Python's Block Syntax\n",
    "\n",
    "If-else blocks are used in programming languages to control the \"flow\" of the program (i.e. make decisions about which code gets run).  \n",
    "\n",
    "```python\n",
    "x = 5\n",
    "if x > 4:\n",
    "    print('big')\n",
    "elif x < 0:  # optional, can have as many as you want\n",
    "    print('negative')\n",
    "else:   # optional \n",
    "    print('small')\n",
    "```\n",
    "\n",
    "Reasoning through which lines of code will get run takes some practice.  \n",
    "In this notebook, we'll look at many if-else blocks, predicting the code outcome, then "
   ]
  },
  {
   "cell_type": "markdown",
   "metadata": {
    "cell_id": "00001-92432385-065c-4be2-84ac-543638a9b9a0",
    "deepnote_cell_type": "markdown",
    "tags": []
   },
   "source": [
    "**Exercises**"
   ]
  },
  {
   "cell_type": "markdown",
   "metadata": {
    "cell_id": "00002-3503fda9-dfa5-473a-ad05-481e85f28764",
    "deepnote_cell_type": "markdown",
    "tags": []
   },
   "source": [
    "If `x` is greater than 3, `y` is 5.  Otherwise, `y` is 3"
   ]
  },
  {
   "cell_type": "code",
   "execution_count": 5,
   "metadata": {
    "allow_embed": "code_output",
    "cell_id": "00001-460abe91-9353-4e5d-ab9e-bef836309ae4",
    "deepnote_cell_type": "code",
    "deepnote_to_be_reexecuted": false,
    "execution_millis": 10,
    "execution_start": 1634157650998,
    "source_hash": "b623e53d",
    "tags": []
   },
   "outputs": [
    {
     "name": "stdin",
     "output_type": "stream",
     "text": [
      "X: 1\n"
     ]
    },
    {
     "name": "stdout",
     "output_type": "stream",
     "text": [
      "y = 3\n"
     ]
    }
   ],
   "source": [
    "x= int(input(\"X:\"))\n",
    "if x > 3:\n",
    "    y = 5\n",
    "else:\n",
    "    y=3\n",
    "print(\"y =\", y)"
   ]
  },
  {
   "cell_type": "markdown",
   "metadata": {
    "cell_id": "00004-7160077c-fde3-488b-906c-dfcaeda4a2ea",
    "deepnote_cell_type": "markdown",
    "tags": []
   },
   "source": [
    "If `month` is in January, March, May, July, August, October, or December, then `has_31_days` is True.  Else, it's False.\n",
    "\n",
    "Tip:  `'a' in ['a', 'b', 'c'] == True`"
   ]
  },
  {
   "cell_type": "code",
   "execution_count": 8,
   "metadata": {
    "cell_id": "00004-0feaca0b-b2ff-405a-87ae-8734a52148a0",
    "deepnote_cell_type": "code",
    "tags": []
   },
   "outputs": [
    {
     "name": "stdin",
     "output_type": "stream",
     "text": [
      "month:  January\n"
     ]
    },
    {
     "name": "stdout",
     "output_type": "stream",
     "text": [
      "True\n"
     ]
    }
   ],
   "source": [
    "month = input(\"month: \")\n",
    "month_list = [ \"January\", \"March\", \"May\", \"July\", \"August\", \"October\",  \"December\" ]\n",
    "if month in month_list:\n",
    "    has_31_days = True\n",
    "else:\n",
    "    has_31_days = False\n",
    "print(has_31_days)"
   ]
  },
  {
   "cell_type": "markdown",
   "metadata": {
    "cell_id": "00003-6e5bd3b8-a7c6-4673-bb73-7d178f86e69b",
    "deepnote_cell_type": "markdown",
    "tags": []
   },
   "source": [
    "  - If `seq` has 'T', print \"DNA!\".  \n",
    "  - If it has 'U' and not 'T', print \"RNA!\"\n",
    "  - Otherwise, print \"Not sure!\"\n"
   ]
  },
  {
   "cell_type": "code",
   "execution_count": 11,
   "metadata": {
    "cell_id": "00007-de9416f4-21cf-4df7-9101-62ea7cfa6672",
    "deepnote_cell_type": "code",
    "deepnote_to_be_reexecuted": false,
    "execution_millis": 0,
    "execution_start": 1634158109570,
    "source_hash": "b623e53d",
    "tags": []
   },
   "outputs": [
    {
     "name": "stdin",
     "output_type": "stream",
     "text": [
      "Sequence: ATUT\n"
     ]
    },
    {
     "name": "stdout",
     "output_type": "stream",
     "text": [
      "DNA!\n"
     ]
    }
   ],
   "source": [
    "seq = str(input(\"Sequence:\" ))\n",
    "if \"T\" in seq:\n",
    "    print(\"DNA!\")\n",
    "elif \"U\" in seq and \"T\" not in seq:\n",
    "    print(\"RNA\")\n",
    "elif \"U\" in seq and \"T\" in seq:\n",
    "    print(\"DNA RNA hybrid???\")\n",
    "else:\n",
    "    print(\"Not sure!\")"
   ]
  },
  {
   "cell_type": "markdown",
   "metadata": {
    "cell_id": "00008-f77a2c03-f0a6-47be-8fe6-7771be41b157",
    "deepnote_cell_type": "markdown",
    "tags": []
   },
   "source": [
    "print a label for a person given their `age`\n",
    "  - 0-1:  \"infant\"\n",
    "  - 1-3: \"toddler\"\n",
    "  - 3-10: \"child\"\n",
    "  - 10-13: \"preteen\"\n",
    "  - 13-18: \"teenager\"\n",
    "  - 18: \"adult\""
   ]
  },
  {
   "cell_type": "code",
   "execution_count": 1,
   "metadata": {
    "cell_id": "00009-eec2730b-df1b-4598-b205-a73caf75292e",
    "deepnote_cell_type": "code",
    "tags": []
   },
   "outputs": [
    {
     "name": "stdin",
     "output_type": "stream",
     "text": [
      "AGE: 2.1\n"
     ]
    },
    {
     "name": "stdout",
     "output_type": "stream",
     "text": [
      "toddler\n"
     ]
    }
   ],
   "source": [
    "age = float(input(\"AGE:\"))\n",
    "if age >=0 and age <=1:\n",
    "    print(\"Infant\")\n",
    "elif age >= 1 and age <=3:\n",
    "    print(\"toddler\")\n",
    "elif age >= 3 and age <= 10:\n",
    "    print(\"child\")\n",
    "elif age > 10 and age <=13:\n",
    "    print(\"preteen\")\n",
    "elif age > 13 and age <=18:\n",
    "    print(\"teen\")\n",
    "else:        \n",
    "    print(\"Adult\")"
   ]
  },
  {
   "cell_type": "code",
   "execution_count": 2,
   "metadata": {},
   "outputs": [
    {
     "name": "stdout",
     "output_type": "stream",
     "text": [
      "h\n",
      "a\n"
     ]
    }
   ],
   "source": [
    "print(\"h\")\n",
    "print(\"a\")"
   ]
  },
  {
   "cell_type": "markdown",
   "metadata": {
    "created_in_deepnote_cell": true,
    "deepnote_cell_type": "markdown",
    "tags": []
   },
   "source": [
    "<a style='text-decoration:none;line-height:16px;display:flex;color:#5B5B62;padding:10px;justify-content:end;' href='https://deepnote.com?utm_source=created-in-deepnote-cell&projectId=79696a98-709a-4729-b1aa-af4bf3c33168' target=\"_blank\">\n",
    "<img alt='Created in deepnote.com' style='display:inline;max-height:16px;margin:0px;margin-right:7.5px;' src='data:image/svg+xml;base64,PD94bWwgdmVyc2lvbj0iMS4wIiBlbmNvZGluZz0iVVRGLTgiPz4KPHN2ZyB3aWR0aD0iODBweCIgaGVpZ2h0PSI4MHB4IiB2aWV3Qm94PSIwIDAgODAgODAiIHZlcnNpb249IjEuMSIgeG1sbnM9Imh0dHA6Ly93d3cudzMub3JnLzIwMDAvc3ZnIiB4bWxuczp4bGluaz0iaHR0cDovL3d3dy53My5vcmcvMTk5OS94bGluayI+CiAgICA8IS0tIEdlbmVyYXRvcjogU2tldGNoIDU0LjEgKDc2NDkwKSAtIGh0dHBzOi8vc2tldGNoYXBwLmNvbSAtLT4KICAgIDx0aXRsZT5Hcm91cCAzPC90aXRsZT4KICAgIDxkZXNjPkNyZWF0ZWQgd2l0aCBTa2V0Y2guPC9kZXNjPgogICAgPGcgaWQ9IkxhbmRpbmciIHN0cm9rZT0ibm9uZSIgc3Ryb2tlLXdpZHRoPSIxIiBmaWxsPSJub25lIiBmaWxsLXJ1bGU9ImV2ZW5vZGQiPgogICAgICAgIDxnIGlkPSJBcnRib2FyZCIgdHJhbnNmb3JtPSJ0cmFuc2xhdGUoLTEyMzUuMDAwMDAwLCAtNzkuMDAwMDAwKSI+CiAgICAgICAgICAgIDxnIGlkPSJHcm91cC0zIiB0cmFuc2Zvcm09InRyYW5zbGF0ZSgxMjM1LjAwMDAwMCwgNzkuMDAwMDAwKSI+CiAgICAgICAgICAgICAgICA8cG9seWdvbiBpZD0iUGF0aC0yMCIgZmlsbD0iIzAyNjVCNCIgcG9pbnRzPSIyLjM3NjIzNzYyIDgwIDM4LjA0NzY2NjcgODAgNTcuODIxNzgyMiA3My44MDU3NTkyIDU3LjgyMTc4MjIgMzIuNzU5MjczOSAzOS4xNDAyMjc4IDMxLjY4MzE2ODMiPjwvcG9seWdvbj4KICAgICAgICAgICAgICAgIDxwYXRoIGQ9Ik0zNS4wMDc3MTgsODAgQzQyLjkwNjIwMDcsNzYuNDU0OTM1OCA0Ny41NjQ5MTY3LDcxLjU0MjI2NzEgNDguOTgzODY2LDY1LjI2MTk5MzkgQzUxLjExMjI4OTksNTUuODQxNTg0MiA0MS42NzcxNzk1LDQ5LjIxMjIyODQgMjUuNjIzOTg0Niw0OS4yMTIyMjg0IEMyNS40ODQ5Mjg5LDQ5LjEyNjg0NDggMjkuODI2MTI5Niw0My4yODM4MjQ4IDM4LjY0NzU4NjksMzEuNjgzMTY4MyBMNzIuODcxMjg3MSwzMi41NTQ0MjUgTDY1LjI4MDk3Myw2Ny42NzYzNDIxIEw1MS4xMTIyODk5LDc3LjM3NjE0NCBMMzUuMDA3NzE4LDgwIFoiIGlkPSJQYXRoLTIyIiBmaWxsPSIjMDAyODY4Ij48L3BhdGg+CiAgICAgICAgICAgICAgICA8cGF0aCBkPSJNMCwzNy43MzA0NDA1IEwyNy4xMTQ1MzcsMC4yNTcxMTE0MzYgQzYyLjM3MTUxMjMsLTEuOTkwNzE3MDEgODAsMTAuNTAwMzkyNyA4MCwzNy43MzA0NDA1IEM4MCw2NC45NjA0ODgyIDY0Ljc3NjUwMzgsNzkuMDUwMzQxNCAzNC4zMjk1MTEzLDgwIEM0Ny4wNTUzNDg5LDc3LjU2NzA4MDggNTMuNDE4MjY3Nyw3MC4zMTM2MTAzIDUzLjQxODI2NzcsNTguMjM5NTg4NSBDNTMuNDE4MjY3Nyw0MC4xMjg1NTU3IDM2LjMwMzk1NDQsMzcuNzMwNDQwNSAyNS4yMjc0MTcsMzcuNzMwNDQwNSBDMTcuODQzMDU4NiwzNy43MzA0NDA1IDkuNDMzOTE5NjYsMzcuNzMwNDQwNSAwLDM3LjczMDQ0MDUgWiIgaWQ9IlBhdGgtMTkiIGZpbGw9IiMzNzkzRUYiPjwvcGF0aD4KICAgICAgICAgICAgPC9nPgogICAgICAgIDwvZz4KICAgIDwvZz4KPC9zdmc+' > </img>\n",
    "Created in <span style='font-weight:600;margin-left:4px;'>Deepnote</span></a>"
   ]
  }
 ],
 "metadata": {
  "deepnote": {
   "is_reactive": false
  },
  "deepnote_execution_queue": [],
  "deepnote_notebook_id": "d7a6cb7d-24ad-4442-883a-a43bec763bb9",
  "kernelspec": {
   "display_name": "Python 3",
   "language": "python",
   "name": "python3"
  },
  "language_info": {
   "codemirror_mode": {
    "name": "ipython",
    "version": 3
   },
   "file_extension": ".py",
   "mimetype": "text/x-python",
   "name": "python",
   "nbconvert_exporter": "python",
   "pygments_lexer": "ipython3",
   "version": "3.7.6"
  }
 },
 "nbformat": 4,
 "nbformat_minor": 4
}
