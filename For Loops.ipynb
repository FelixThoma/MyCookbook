{
 "cells": [
  {
   "cell_type": "markdown",
   "metadata": {
    "cell_id": "00000-a630562b-b133-4c27-8594-8e7c143564a4",
    "deepnote_cell_type": "markdown",
    "tags": []
   },
   "source": [
    "# Loops: Describing How to Repeat Steps in a Program"
   ]
  },
  {
   "cell_type": "markdown",
   "metadata": {
    "cell_id": "00001-6c8576f9-4a2d-4a66-a02b-157eb2e71528",
    "deepnote_cell_type": "markdown",
    "tags": []
   },
   "source": [
    "## For Loops:\n",
    "\n",
    "Like R and Matlab, Python makes it straightford repeat commands \"For-Each\" element in a data collection.  For example, to print each element in a list:\n",
    "\n",
    "```python\n",
    "names = ['Ted', 'Roy', 'Keeley']\n",
    "for name in names:\n",
    "   print(name)\n",
    "# prints \"Ted\" then \"Roy\" then \"Keeley\"\n",
    "```\n",
    ".\n",
    "\n"
   ]
  },
  {
   "cell_type": "markdown",
   "metadata": {
    "cell_id": "00002-6ee8a081-ee3b-43df-8cd5-1c780c742c3b",
    "deepnote_cell_type": "markdown",
    "tags": []
   },
   "source": [
    "**Exercises**"
   ]
  },
  {
   "cell_type": "markdown",
   "metadata": {
    "cell_id": "00003-7b467cb5-c73f-4055-a371-f9fb1458b4c4",
    "deepnote_cell_type": "markdown",
    "tags": []
   },
   "source": [
    "Print 10 times each number in the list \n",
    "For example, `[2, 4]` should print `20` then `40`."
   ]
  },
  {
   "cell_type": "code",
   "execution_count": 4,
   "metadata": {
    "cell_id": "00001-f32d95ee-7ec6-45c9-95e6-c611d8a21d7a",
    "deepnote_cell_type": "code",
    "deepnote_to_be_reexecuted": false,
    "execution_millis": 11,
    "execution_start": 1634192534154,
    "source_hash": "5b10538f",
    "tags": []
   },
   "outputs": [
    {
     "name": "stdout",
     "output_type": "stream",
     "text": [
      "4\n",
      "8\n",
      "10\n",
      "5\n"
     ]
    }
   ],
   "source": [
    "nums = [4, 8, 10, 5]\n",
    "#[print(i) for i in nums]\n",
    "for i in nums:\n",
    "    print(i)"
   ]
  },
  {
   "cell_type": "markdown",
   "metadata": {
    "cell_id": "00005-ed0c17c0-ab8d-4412-b3a6-252c4bbd8a14",
    "deepnote_cell_type": "markdown",
    "tags": []
   },
   "source": [
    "Print the first letter of each name in the list"
   ]
  },
  {
   "cell_type": "code",
   "execution_count": 6,
   "metadata": {
    "cell_id": "00005-7b6055cb-8d61-484a-9e14-98cb32334410",
    "deepnote_cell_type": "code",
    "deepnote_to_be_reexecuted": false,
    "execution_millis": 3,
    "execution_start": 1634192558128,
    "source_hash": "3d0d6b91",
    "tags": []
   },
   "outputs": [
    {
     "name": "stdout",
     "output_type": "stream",
     "text": [
      "J\n",
      "H\n",
      "M\n",
      "L\n"
     ]
    }
   ],
   "source": [
    "names = [\"John\", \"Harry\", \"Moe\", \"Luke\"]\n",
    "#[print(i[0]) for i in names]\n",
    "for i in names:\n",
    "    print(i[0])"
   ]
  },
  {
   "cell_type": "markdown",
   "metadata": {
    "cell_id": "00007-aaddb85b-e923-4041-b62a-3632f1e64200",
    "deepnote_cell_type": "markdown",
    "tags": []
   },
   "source": [
    "Print the file extension of each file in the list\n",
    "\n",
    "*Hint*: the pathlib.Path class is useful for this"
   ]
  },
  {
   "cell_type": "code",
   "execution_count": 10,
   "metadata": {},
   "outputs": [
    {
     "data": {
      "text/plain": [
       "'.png'"
      ]
     },
     "execution_count": 10,
     "metadata": {},
     "output_type": "execute_result"
    }
   ],
   "source": [
    "a = \"data.png\"\n",
    "Path(a).suffix"
   ]
  },
  {
   "cell_type": "code",
   "execution_count": 11,
   "metadata": {
    "cell_id": "00007-dec7272e-32e4-4457-8f10-3f7409be963a",
    "deepnote_cell_type": "code",
    "deepnote_to_be_reexecuted": false,
    "execution_millis": 4,
    "execution_start": 1634192751322,
    "source_hash": "8b821e2c",
    "tags": []
   },
   "outputs": [
    {
     "name": "stdout",
     "output_type": "stream",
     "text": [
      ".fasta\n",
      ".jpg\n",
      ".csv\n",
      ".pdf\n"
     ]
    }
   ],
   "source": [
    "from pathlib import Path\n",
    "filenames = ['virus.fasta', 'birthday.jpg', 'hospital.csv', 'letter.pdf']\n",
    "for a in filenames:\n",
    "    print(Path(a).suffix)"
   ]
  },
  {
   "cell_type": "markdown",
   "metadata": {
    "cell_id": "00009-9c1e2ac6-9ef9-4257-b6a9-d4e8334f6a78",
    "deepnote_cell_type": "markdown",
    "tags": []
   },
   "source": [
    "## List-Append Loop Pattern"
   ]
  },
  {
   "cell_type": "markdown",
   "metadata": {
    "cell_id": "00009-3e0c9db5-f7bc-48bf-b60c-a98bd644a1d7",
    "deepnote_cell_type": "markdown",
    "tags": []
   },
   "source": [
    "This can also be used to create new data collections.  For example:\n",
    "\n",
    "```python\n",
    "old_names = ['ted', 'roy', 'keeley']\n",
    "new_names = []\n",
    "for name in old_names:\n",
    "   new_names.append(name.title())\n",
    "```"
   ]
  },
  {
   "cell_type": "markdown",
   "metadata": {
    "cell_id": "00011-02d72e01-472f-4f3e-aeee-f9be253338af",
    "deepnote_cell_type": "markdown",
    "tags": []
   },
   "source": [
    "**Exercises**"
   ]
  },
  {
   "cell_type": "markdown",
   "metadata": {
    "cell_id": "00012-ff3a7af3-c63a-46c2-8f46-a9d0ea3dbc0d",
    "deepnote_cell_type": "markdown",
    "tags": []
   },
   "source": [
    "Make a list with the first codon of each sequence"
   ]
  },
  {
   "cell_type": "code",
   "execution_count": 12,
   "metadata": {
    "cell_id": "00009-0241661a-91eb-45a2-bf9a-0e57442cd947",
    "deepnote_cell_type": "code",
    "deepnote_to_be_reexecuted": false,
    "execution_millis": 4,
    "execution_start": 1634192926318,
    "source_hash": "11432b8e",
    "tags": []
   },
   "outputs": [
    {
     "name": "stdout",
     "output_type": "stream",
     "text": [
      "['GTA', 'GTA', 'GGT']\n"
     ]
    }
   ],
   "source": [
    "seqs = [\"GTAATCG\", \"GTACCAAA\", \"GGTAGTACCAC\"]\n",
    "new = []\n",
    "for seq in seqs:\n",
    "    new.append(seq[:3])\n",
    "print(new)"
   ]
  },
  {
   "cell_type": "markdown",
   "metadata": {
    "cell_id": "00014-bd584def-44a1-4a12-a680-c112aa50d260",
    "deepnote_cell_type": "markdown",
    "tags": []
   },
   "source": [
    "Clean up the data.  Make a list with that formats each sequence the same way."
   ]
  },
  {
   "cell_type": "code",
   "execution_count": 14,
   "metadata": {
    "cell_id": "00014-a17dfc9f-11c4-4f5b-9aec-3c7290710a5d",
    "deepnote_cell_type": "code",
    "deepnote_to_be_reexecuted": false,
    "execution_millis": 0,
    "execution_start": 1634192983915,
    "source_hash": "2609f853",
    "tags": []
   },
   "outputs": [
    {
     "name": "stdout",
     "output_type": "stream",
     "text": [
      "['GTAATCG', 'GTACCAAA', 'GGTAGTACCAC']\n"
     ]
    }
   ],
   "source": [
    "seqs = [\"GTAATCG\", \"gtaccaaa\", \"GGtAGtACCaC\"]\n",
    "clean=[]\n",
    "for i in seqs:\n",
    "    clean.append(i.upper())\n",
    "print(clean)"
   ]
  },
  {
   "cell_type": "markdown",
   "metadata": {
    "cell_id": "00015-c4f60957-081c-4784-8afc-fb3430cf0c1c",
    "deepnote_cell_type": "markdown",
    "tags": []
   },
   "source": [
    "Make a list of the number of A in each sequence"
   ]
  },
  {
   "cell_type": "code",
   "execution_count": 16,
   "metadata": {
    "cell_id": "00017-6eb0a4fc-c8b7-46ee-b30e-c1d9ccc76bf5",
    "deepnote_cell_type": "code",
    "deepnote_to_be_reexecuted": false,
    "execution_millis": 1,
    "execution_start": 1634193031511,
    "source_hash": "2609f853",
    "tags": []
   },
   "outputs": [
    {
     "name": "stdout",
     "output_type": "stream",
     "text": [
      "[2, 0, 2]\n"
     ]
    }
   ],
   "source": [
    "seqs = [\"GTAATCG\", \"gtaccaaa\", \"GGtAGtACCaC\"]\n",
    "new =[]\n",
    "for i in seqs:\n",
    "    new.append(i.count(\"A\"))\n",
    "print(new)"
   ]
  },
  {
   "cell_type": "markdown",
   "metadata": {
    "cell_id": "00018-59190df2-fa16-4b4c-8b93-b7fc3e146693",
    "deepnote_cell_type": "markdown",
    "tags": []
   },
   "source": [
    "Make a list sequences from the list of sequences combinations.\n"
   ]
  },
  {
   "cell_type": "code",
   "execution_count": 28,
   "metadata": {},
   "outputs": [
    {
     "data": {
      "text/plain": [
       "[['GGTAGTACCAC'], ['GGTAGTACCAC'], ['GGTAGTACCAC']]"
      ]
     },
     "execution_count": 28,
     "metadata": {},
     "output_type": "execute_result"
    }
   ],
   "source": [
    "seq2"
   ]
  },
  {
   "cell_type": "code",
   "execution_count": 42,
   "metadata": {
    "cell_id": "00019-9564b195-419f-432c-b0ba-de0bfe173a74",
    "deepnote_cell_type": "code",
    "deepnote_to_be_reexecuted": false,
    "execution_millis": 0,
    "execution_start": 1634193208699,
    "source_hash": "2db72f6f",
    "tags": []
   },
   "outputs": [
    {
     "data": {
      "text/plain": [
       "['GCAGA', 'GATATC', 'GGTAAAA', 'ACTAGA', 'GGTATA', 'GGTAA']"
      ]
     },
     "execution_count": 42,
     "metadata": {},
     "output_type": "execute_result"
    }
   ],
   "source": [
    "seqs = ['GCAGA GATATC', 'GGTAAAA ACTAGA GGTATA', 'GGTAA']\n",
    "seqs3=[]\n",
    "for i in seqs:\n",
    "    seqs3.append(i.split(' '))\n",
    "seqs3[0]+seqs3[1]+seqs3[2]"
   ]
  },
  {
   "cell_type": "code",
   "execution_count": 30,
   "metadata": {},
   "outputs": [
    {
     "data": {
      "text/plain": [
       "[9, 15, 11]"
      ]
     },
     "execution_count": 30,
     "metadata": {},
     "output_type": "execute_result"
    }
   ],
   "source": [
    "pairs = [[4, 5], [7, 8], [2, 9]]\n",
    "sums = []\n",
    "for pair in pairs:\n",
    "    first = pair[0]\n",
    "    second = pair[1]\n",
    "    sums.append(first + second)\n",
    "sums"
   ]
  },
  {
   "cell_type": "markdown",
   "metadata": {
    "cell_id": "00020-94b3d7ad-afc3-41ff-9945-8c10fa2d765d",
    "deepnote_cell_type": "markdown",
    "tags": []
   },
   "source": [
    "## Sequence-Unpacking Loop Pattern\n",
    "\n",
    "Loops are also useful when you have a collection of collections (e.g. a list of lists).\n",
    "When it's a collection of same-length sequences, you can break apart each sequence inside the loop and work with it:\n",
    "\n",
    "```python\n",
    "pairs = [[4, 5], [7, 8], [2, 9]]\n",
    "sums = []\n",
    "for pair in pairs:\n",
    "    first = pair[0]\n",
    "    second = pair[1]\n",
    "    sums.append(first + second)\n",
    "```\n",
    ".\n",
    "\n",
    "This is so common, that python provides some syntactic sugar (i.e. a shortcut) for breaking known-length sequences apart, called **\"Unpacking\"**\n",
    ".\n",
    "\n",
    "```python\n",
    "pairs = [[4, 5], [7, 8], [2, 9]]\n",
    "sums = []\n",
    "for pair in pairs:\n",
    "    first, second = pair\n",
    "    sums.append(first + second)\n",
    "```\n",
    ".\n",
    "\n",
    "This can even be done in the header of the for-loop!\n",
    "\n",
    "```python\n",
    "pairs = [[4, 5], [7, 8], [2, 9]]\n",
    "sums = []\n",
    "for first, second in pairs:\n",
    "    sums.append(first + second)\n",
    "```"
   ]
  },
  {
   "cell_type": "markdown",
   "metadata": {
    "cell_id": "00021-ce34db99-527e-45fa-a888-1a055532ed80",
    "deepnote_cell_type": "markdown",
    "tags": []
   },
   "source": [
    "**Exercises**"
   ]
  },
  {
   "cell_type": "markdown",
   "metadata": {
    "cell_id": "00020-898ed7a2-2860-4ac6-a000-d46f16c63b4e",
    "deepnote_cell_type": "markdown",
    "tags": []
   },
   "source": [
    "Make a list of the sum of each number pair"
   ]
  },
  {
   "cell_type": "code",
   "execution_count": 33,
   "metadata": {
    "cell_id": "00021-eacd53c3-e0d2-44cf-a5fe-5269803e3944",
    "deepnote_cell_type": "code",
    "deepnote_to_be_reexecuted": false,
    "execution_millis": 0,
    "execution_start": 1634193665675,
    "source_hash": "2c8eda3e",
    "tags": []
   },
   "outputs": [
    {
     "data": {
      "text/plain": [
       "[11, 9, 12, 14]"
      ]
     },
     "execution_count": 33,
     "metadata": {},
     "output_type": "execute_result"
    }
   ],
   "source": [
    "pairs = [[4, 7], [7, 2], [10, 2], [5, 9]]\n",
    "sums=[]\n",
    "for first, second in pairs:\n",
    "    sums.append(first+second)\n",
    "sums\n",
    "    "
   ]
  },
  {
   "cell_type": "code",
   "execution_count": null,
   "metadata": {},
   "outputs": [],
   "source": []
  },
  {
   "cell_type": "markdown",
   "metadata": {
    "cell_id": "00024-f415df0d-1836-4449-aa6b-98fef6e98179",
    "deepnote_cell_type": "markdown",
    "tags": []
   },
   "source": [
    "Write each sequence to its corresponding a file"
   ]
  },
  {
   "cell_type": "code",
   "execution_count": 38,
   "metadata": {
    "cell_id": "00025-c6a363d8-909e-4bae-bf89-6c2dd461e539",
    "deepnote_cell_type": "code",
    "deepnote_to_be_reexecuted": false,
    "execution_millis": 9,
    "execution_start": 1634193800852,
    "source_hash": "1e246064",
    "tags": []
   },
   "outputs": [],
   "source": [
    "from pathlib import Path\n",
    "\n",
    "dataset = [\n",
    "    ('seq1.txt', 'GACCAGTA'),\n",
    "    ('seqA.txt', 'GGAGAGTATAC'),\n",
    "    ('myseq.txt', 'GTTTAAC'),\n",
    "]\n",
    "for name, seq in dataset:\n",
    "    Path(name).write_text(seq)\n",
    "        \n"
   ]
  },
  {
   "cell_type": "code",
   "execution_count": 40,
   "metadata": {},
   "outputs": [
    {
     "data": {
      "text/plain": [
       "'GGAGAGTATAC'"
      ]
     },
     "execution_count": 40,
     "metadata": {},
     "output_type": "execute_result"
    }
   ],
   "source": [
    "t = Path(\"seqA.txt\").read_text()\n",
    "t"
   ]
  },
  {
   "cell_type": "markdown",
   "metadata": {
    "cell_id": "00026-bc8e8516-82a9-4163-b6d9-f1c8eb7d7ef6",
    "deepnote_cell_type": "markdown",
    "tags": []
   },
   "source": [
    "Make a list of Trues and Falses, saying whether the first sequence (the wild-type) in each triplet has more G's than both the second and third sequence in the triplet (the two experimental sequences)"
   ]
  },
  {
   "cell_type": "code",
   "execution_count": 44,
   "metadata": {
    "cell_id": "00027-26479eab-7155-4b91-b617-02bd76dce67b",
    "deepnote_cell_type": "code",
    "deepnote_to_be_reexecuted": false,
    "execution_millis": 3,
    "execution_start": 1634194257070,
    "source_hash": "f2e588d",
    "tags": []
   },
   "outputs": [
    {
     "data": {
      "text/plain": [
       "[True, False, False, False, False, False, True, True]"
      ]
     },
     "execution_count": 44,
     "metadata": {},
     "output_type": "execute_result"
    }
   ],
   "source": [
    "seq_collections = [\n",
    "    ('GACAGGAGATTA', 'GACCAGATA', 'GCCAGAGGATAA'),\n",
    "    ('gacccatagag', 'CAGATAcaga', 'GAGGAACCaca'),\n",
    "    ('ACCAGATA', 'GAGAAAGACCA', 'CCAGAGATATTA'),\n",
    "    ('AGGGACCCCA', 'CGCCCACCACCG', 'CCCATTATC'),\n",
    "]\n",
    "new=[]\n",
    "for wt, second, third in seq_collections:\n",
    "    if wt.count(\"G\") > second.count(\"G\"):\n",
    "        new.append(True)\n",
    "    else:\n",
    "        new.append(False)\n",
    "    if wt.count(\"G\") > third.count(\"G\"):\n",
    "        new.append(True)\n",
    "    else:\n",
    "        new.append(False)\n",
    "new"
   ]
  },
  {
   "cell_type": "markdown",
   "metadata": {
    "cell_id": "00022-610aff56-3141-4ad9-9227-b992981b4bd3",
    "deepnote_cell_type": "markdown",
    "tags": []
   },
   "source": [
    "## The Zip Loop Pattern\n",
    "\n",
    "Most of the times, you don't have a collection of pairs--sometimes, you need to make that collection yourself before you can loop over them.  The `zip()` function makes this straightforward!\n",
    "\n",
    "```python\n",
    "names = ['Zanarah', 'Joe', 'Weiwei',]\n",
    "ages = [20, 21, 22]\n",
    "combined = list(zip(names, ages))  # [('Zanara', 20), ('Joe', 21), ...]\n",
    "\n",
    "for name, ages in combined:\n",
    "    print(name, age)\n",
    "```\n",
    ".\n",
    "\n",
    "To make it more concise, This can also be done inside the header of the for-loop:\n",
    "\n",
    "```python\n",
    "names = ['Zanarah', 'Joe', 'Weiwei',]\n",
    "ages = [20, 21, 22]\n",
    "for name, ages in zip(names, ages)):\n",
    "    print(name, age)\n",
    "```\n",
    ".\n",
    "\n",
    "\n"
   ]
  },
  {
   "cell_type": "markdown",
   "metadata": {
    "cell_id": "00029-1aeb33ab-333f-4035-8654-07a361030bc8",
    "deepnote_cell_type": "markdown",
    "tags": []
   },
   "source": [
    "**Exercises**"
   ]
  },
  {
   "cell_type": "markdown",
   "metadata": {
    "cell_id": "00030-2b4626f7-c0ed-4599-9ad3-1f386ace0160",
    "deepnote_cell_type": "markdown",
    "tags": []
   },
   "source": [
    "Add each pair of numbers"
   ]
  },
  {
   "cell_type": "code",
   "execution_count": 45,
   "metadata": {
    "cell_id": "00031-988665b6-6b1b-4a51-84f4-934863d7a1d8",
    "deepnote_cell_type": "code",
    "deepnote_to_be_reexecuted": false,
    "execution_millis": 5,
    "execution_start": 1634194896827,
    "source_hash": "95cacf5e",
    "tags": []
   },
   "outputs": [
    {
     "data": {
      "text/plain": [
       "[11, 22, 33, 44, 55]"
      ]
     },
     "execution_count": 45,
     "metadata": {},
     "output_type": "execute_result"
    }
   ],
   "source": [
    "firsts = [1, 2, 3, 4, 5]\n",
    "seconds = [10, 20, 30, 40, 50]\n",
    "new=[]\n",
    "for first, second in zip(firsts, seconds):\n",
    "    new.append(first+second)\n",
    "new"
   ]
  },
  {
   "cell_type": "markdown",
   "metadata": {
    "cell_id": "00030-8abffe37-04d8-485a-bb32-d61b8ae64053",
    "deepnote_cell_type": "markdown",
    "tags": []
   },
   "source": [
    "Print the patient number and treatment group of each patient\n",
    "(e.g. \"Patient 32341: control\")"
   ]
  },
  {
   "cell_type": "code",
   "execution_count": 46,
   "metadata": {
    "cell_id": "00029-366ac013-e1ac-41e0-a94e-18b09358a8ee",
    "deepnote_cell_type": "code",
    "deepnote_to_be_reexecuted": false,
    "execution_millis": 4,
    "execution_start": 1634195339406,
    "source_hash": "9d1b5666",
    "tags": []
   },
   "outputs": [
    {
     "name": "stdout",
     "output_type": "stream",
     "text": [
      "Patient Number:  32451 Group:  control\n",
      "Patient Number:  435679 Group:  treatment\n",
      "Patient Number:  4211235 Group:  treatment\n",
      "Patient Number:  123121 Group:  control\n"
     ]
    }
   ],
   "source": [
    "patients = [32451, 435679, 4211235, 123121]\n",
    "groups = ['control', 'treatment', 'treatment', 'control']\n",
    "\n",
    "for pat, gro in zip(patients, groups):\n",
    "    print(\"Patient Number: \", pat, \"Group: \", gro)"
   ]
  },
  {
   "cell_type": "markdown",
   "metadata": {
    "cell_id": "00034-1bee6202-d9f6-4a81-bb35-cc87891b952b",
    "deepnote_cell_type": "markdown",
    "tags": []
   },
   "source": [
    "Compare the number of Cs in each sequence.  Does the first have more or less than the second? "
   ]
  },
  {
   "cell_type": "code",
   "execution_count": 51,
   "metadata": {
    "cell_id": "00035-58e10996-e2a8-4893-9f5e-024003063170",
    "deepnote_cell_type": "code",
    "deepnote_to_be_reexecuted": false,
    "execution_millis": 4,
    "execution_start": 1634195332178,
    "source_hash": "387493c9",
    "tags": []
   },
   "outputs": [
    {
     "name": "stdout",
     "output_type": "stream",
     "text": [
      "First sequence is longer\n",
      "same length\n",
      "First sequence is longer\n"
     ]
    }
   ],
   "source": [
    "firsts = ['GAGATTACA', 'CAGATGATA', 'GGAGGACCAAG']\n",
    "seconds = ['GGAACCAA', 'CACAGGAGA', 'GATATAACA']\n",
    "\n",
    "for first, second in zip(firsts, seconds):\n",
    "    if len(first)>len(second):\n",
    "        print(\"First sequence is longer\")\n",
    "    elif len(first) == len(second):\n",
    "        print(\"same length\")\n",
    "    else:\n",
    "        print(\"second seq is longer\")\n",
    "        "
   ]
  },
  {
   "cell_type": "markdown",
   "metadata": {
    "cell_id": "00034-18ab1d7d-5b89-4036-b0a9-18b072dbbeb8",
    "deepnote_cell_type": "markdown",
    "tags": []
   },
   "source": [
    "Write these sequences to filenames named after their corresponding animal id (e.g. `324` becomes `'324.txt'`)"
   ]
  },
  {
   "cell_type": "code",
   "execution_count": 54,
   "metadata": {
    "cell_id": "00035-2a437e2b-6f01-48d4-9d2a-852c8e37e3c6",
    "deepnote_cell_type": "code",
    "deepnote_to_be_reexecuted": false,
    "execution_millis": 3,
    "execution_start": 1634195107660,
    "source_hash": "eb5354cd",
    "tags": []
   },
   "outputs": [],
   "source": [
    "animals = [123, 342, 543, 654]\n",
    "seqs = ['GADCAG', 'CADFAAD', 'GGGGCVAGDA', 'GGDADCA']\n",
    "\n",
    "for name, seq in zip(animals, seqs):\n",
    "    Path(str(name) + \".txt\").write_text(seq)\n",
    "    "
   ]
  },
  {
   "cell_type": "markdown",
   "metadata": {
    "cell_id": "00017-2959ee52-6227-4168-af6c-e9c60805d33c",
    "deepnote_cell_type": "markdown",
    "tags": []
   },
   "source": [
    "Write all the sequences of each animal to filenames named after their corresponding animal id (e.g. 324 becomes '324.txt')"
   ]
  },
  {
   "cell_type": "code",
   "execution_count": 78,
   "metadata": {
    "cell_id": "00037-09f60624-e713-4031-97bc-37538f1ee7ce",
    "deepnote_cell_type": "code",
    "deepnote_to_be_reexecuted": false,
    "execution_millis": 6,
    "execution_start": 1634195207919,
    "source_hash": "eea73373",
    "tags": []
   },
   "outputs": [
    {
     "name": "stdout",
     "output_type": "stream",
     "text": [
      "Number: 0 Name: 123 Sequence:  GACAGGCCAGT\n",
      "Number: 1 Name: 342 Sequence:  CAAAGGGGCAGAGGACA\n",
      "Number: 2 Name: 543 Sequence:  GGGATATCACCACAGATAGGACAAATA\n",
      "Number: 3 Name: 654 Sequence:  GCCATATACAACTTTATA\n"
     ]
    }
   ],
   "source": [
    "animals = [123, 342, 543, 654]\n",
    "seqs = [\n",
    "    ('GACAG', 'GCCAGT'), \n",
    "    ('CAAA', 'GGGGCAGA', 'GGACA'),\n",
    "    ('GGGATATCA', 'CCACAGATA', 'GGACAAATA'),\n",
    "    ('GCCATATA', 'CAACTTTATA'),\n",
    "]\n",
    "new_list = []\n",
    "for words in seqs:\n",
    "    new_list.append(''.join(words))\n",
    "for name, (x,y) in enumerate(zip(animals, new_list)):\n",
    "    \n",
    "    print(\"Number:\", name,\"Name:\", x, \"Sequence: \", y)\n"
   ]
  },
  {
   "cell_type": "markdown",
   "metadata": {
    "cell_id": "00037-c26e38ad-330a-4428-9093-327d514c4b94",
    "deepnote_cell_type": "markdown",
    "tags": []
   },
   "source": [
    "## Enumerate Pattern\n",
    "\n",
    "Sometimes you want to store the **index** of items in a sequence.  You could calculate this in a loop:\n",
    "\n",
    "```python\n",
    "bundesländer = ['Baden-Württemberg', 'Bayern', 'Thuringen']\n",
    "idx = 0\n",
    "for bundesland in bundesländer:\n",
    "    print(idx, bundesland)  # prints 0 Baden-Württemberg\n",
    "    idx += 1\n",
    "```\n",
    ".\n",
    "\n",
    "Python's `enumerate()` function generates a list of (index, element) pairs:\n",
    "\n",
    "```python\n",
    "bundesländer = ['Baden-Württemberg', 'Bayern', 'Thuringen']\n",
    "indices_bundesländer = list(enumerate(bundesländer))  # [(0, 'Baden-Württemberg'), ...]\n",
    "for idx, bundesland in indices_bundesländer:\n",
    "    print(idx, bundesland)  # prints 0 Baden-Württemberg\n",
    "```\n",
    ".\n",
    "\n",
    "Like with `zip()`, this can be shortened by just putting it in the header of the for loop:\n",
    "\n",
    "```python\n",
    "bundesländer = ['Baden-Württemberg', 'Bayern', 'Thuringen']\n",
    "for idx, bundesland in enumerate(bundesländer):\n",
    "    print(idx, bundesland)  # prints 0 Baden-Württemberg\n",
    "```\n",
    ".\n",
    "\n"
   ]
  },
  {
   "cell_type": "markdown",
   "metadata": {
    "cell_id": "00041-1a2de9ab-a383-4d83-99c1-76d586fb4e54",
    "deepnote_cell_type": "markdown",
    "tags": []
   },
   "source": [
    "**Exercises**"
   ]
  },
  {
   "cell_type": "markdown",
   "metadata": {
    "cell_id": "00042-4387e3fc-cb20-4198-a6e5-9af0de85501a",
    "deepnote_cell_type": "markdown",
    "tags": []
   },
   "source": []
  },
  {
   "cell_type": "code",
   "execution_count": null,
   "metadata": {
    "cell_id": "00041-456fedf3-daa5-4cb8-9f1c-85b6a896d996",
    "deepnote_cell_type": "code",
    "tags": []
   },
   "outputs": [],
   "source": []
  },
  {
   "cell_type": "markdown",
   "metadata": {
    "created_in_deepnote_cell": true,
    "deepnote_cell_type": "markdown",
    "tags": []
   },
   "source": [
    "<a style='text-decoration:none;line-height:16px;display:flex;color:#5B5B62;padding:10px;justify-content:end;' href='https://deepnote.com?utm_source=created-in-deepnote-cell&projectId=2315fd57-700a-4075-a620-309a4fd7d62c' target=\"_blank\">\n",
    "<img alt='Created in deepnote.com' style='display:inline;max-height:16px;margin:0px;margin-right:7.5px;' src='data:image/svg+xml;base64,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' > </img>\n",
    "Created in <span style='font-weight:600;margin-left:4px;'>Deepnote</span></a>"
   ]
  }
 ],
 "metadata": {
  "deepnote": {
   "is_reactive": false
  },
  "deepnote_execution_queue": [],
  "deepnote_notebook_id": "ef49a35c-a30b-456b-a05a-67ff89abc6a7",
  "kernelspec": {
   "display_name": "Python 3",
   "language": "python",
   "name": "python3"
  },
  "language_info": {
   "codemirror_mode": {
    "name": "ipython",
    "version": 3
   },
   "file_extension": ".py",
   "mimetype": "text/x-python",
   "name": "python",
   "nbconvert_exporter": "python",
   "pygments_lexer": "ipython3",
   "version": "3.7.6"
  }
 },
 "nbformat": 4,
 "nbformat_minor": 2
}
