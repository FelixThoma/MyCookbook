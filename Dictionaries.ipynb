{
 "cells": [
  {
   "cell_type": "markdown",
   "metadata": {
    "cell_id": "00001-c8b7162c-b006-4596-91f9-fa526dd0de54",
    "deepnote_cell_type": "markdown",
    "tags": []
   },
   "source": [
    "# Dictionaries \n",
    "## (a.k.a. `Dicts`)\n",
    "\n",
    "Python has a valuable data structure used for  associating pairs of values: the `dict`.\n",
    "Each `item` in a `dict` has two parts: the `key` and the `value`.  For example:\n",
    "\n",
    "```python\n",
    "phone_numbers = {'Ben': '+49123343282', 'Julie': '+45328472022'}\n",
    "```\n",
    ".\n",
    "\n",
    "In this example, the names are the keys:\n",
    "\n",
    "```python\n",
    ">>> phone_numbers.keys()\n",
    "dict_keys(['Ben', 'Julie'])\n",
    "```\n",
    ".\n",
    "\n",
    "The numbers are the values:\n",
    "\n",
    "```python\n",
    ">>> phone_numbers.values()\n",
    "dict_values(['+49123343282', '+45328472022'])\n",
    "```\n",
    ".\n",
    "\n",
    "Altogether, the pairs are `items`:\n",
    "```python\n",
    ">>> phone_numbers.items()\n",
    "dict_items([('Ben', '+49123343282'), ('Julie', '+45328472022')])\n",
    "```\n",
    ". \n",
    "keys, values, and items can be looped through, making them work a lot like a zipped list.\n",
    "\n",
    "**Tip**: You can change zipped list into a dict with the `dict()` function!  \n",
    "\n",
    "```python\n",
    ">>> dict([('a', 1), ('b', 2)])\n",
    "{'a': 1, 'b': 2}\n",
    "```\n",
    "\n",
    "\n",
    "Let's explore some dictionaries and get a feel for them."
   ]
  },
  {
   "cell_type": "markdown",
   "metadata": {
    "cell_id": "00001-f79eb6d6-4fc0-4820-9279-06bb64f06729",
    "deepnote_cell_type": "markdown",
    "tags": []
   },
   "source": [
    "**Exercises**"
   ]
  },
  {
   "cell_type": "markdown",
   "metadata": {
    "cell_id": "00002-daede3e3-f2ff-4f36-a400-8461c8fae4e7",
    "deepnote_cell_type": "markdown",
    "tags": []
   },
   "source": [
    "Print the `values` of this dict"
   ]
  },
  {
   "cell_type": "code",
   "execution_count": 1,
   "metadata": {
    "cell_id": "00000-1fe44039-c5e7-4e4d-ba1e-af8ece0c28bb",
    "deepnote_cell_type": "code",
    "deepnote_to_be_reexecuted": false,
    "execution_millis": 1,
    "execution_start": 1634211720387,
    "source_hash": "b623e53d",
    "tags": []
   },
   "outputs": [
    {
     "data": {
      "text/plain": [
       "dict_values(['Jan. 4th', 'May 25th'])"
      ]
     },
     "execution_count": 1,
     "metadata": {},
     "output_type": "execute_result"
    }
   ],
   "source": [
    "birthdays = {'John': 'Jan. 4th', 'Bernice': 'May 25th'}\n",
    "birthdays.values()"
   ]
  },
  {
   "cell_type": "markdown",
   "metadata": {
    "cell_id": "00004-121dd86c-09c5-45c3-8187-5daed60bca2d",
    "deepnote_cell_type": "markdown",
    "tags": []
   },
   "source": [
    "Print the `keys` of this dict"
   ]
  },
  {
   "cell_type": "code",
   "execution_count": 2,
   "metadata": {
    "cell_id": "00004-e4f95858-9c3d-4865-9fbe-64070fdd0420",
    "deepnote_cell_type": "code",
    "deepnote_to_be_reexecuted": false,
    "execution_millis": 1,
    "execution_start": 1634212157832,
    "source_hash": "4c0051d4",
    "tags": []
   },
   "outputs": [
    {
     "data": {
      "text/plain": [
       "dict_keys(['John', 'Bernice'])"
      ]
     },
     "execution_count": 2,
     "metadata": {},
     "output_type": "execute_result"
    }
   ],
   "source": [
    "birthdays = {'John': 'Jan. 4th', 'Bernice': 'May 25th'}\n",
    "birthdays.keys()"
   ]
  },
  {
   "cell_type": "markdown",
   "metadata": {
    "cell_id": "00006-b3a9b407-190b-4475-8a1a-27d23fb3e8c5",
    "deepnote_cell_type": "markdown",
    "tags": []
   },
   "source": [
    "Print the `items` of this dict"
   ]
  },
  {
   "cell_type": "code",
   "execution_count": 3,
   "metadata": {
    "cell_id": "00005-8bca3064-8493-4be7-9afa-fc23bf0d6325",
    "deepnote_cell_type": "code",
    "deepnote_to_be_reexecuted": false,
    "execution_millis": 1,
    "execution_start": 1634211977207,
    "source_hash": "4c0051d4",
    "tags": []
   },
   "outputs": [
    {
     "data": {
      "text/plain": [
       "dict_items([('John', 'Jan. 4th'), ('Bernice', 'May 25th')])"
      ]
     },
     "execution_count": 3,
     "metadata": {},
     "output_type": "execute_result"
    }
   ],
   "source": [
    "birthdays = {'John': 'Jan. 4th', 'Bernice': 'May 25th'}\n",
    "birthdays.items()"
   ]
  },
  {
   "cell_type": "markdown",
   "metadata": {
    "cell_id": "00008-8ce9796a-0269-4b9c-b4f1-f4350733d973",
    "deepnote_cell_type": "markdown",
    "tags": []
   },
   "source": [
    "Make a dict from this list:"
   ]
  },
  {
   "cell_type": "code",
   "execution_count": 6,
   "metadata": {
    "cell_id": "00006-a669e6ee-c488-49d9-ba0a-aa13cc3f2c28",
    "deepnote_cell_type": "code",
    "deepnote_to_be_reexecuted": false,
    "execution_millis": 3,
    "execution_start": 1634212049410,
    "source_hash": "fd2c92d5",
    "tags": []
   },
   "outputs": [],
   "source": [
    "brightnesses = dict([('red', 65), ('green', 3), ('blue', 10)])"
   ]
  },
  {
   "cell_type": "markdown",
   "metadata": {
    "cell_id": "00010-2a87511e-ddae-482c-ad5e-c4a36b8acada",
    "deepnote_cell_type": "markdown",
    "tags": []
   },
   "source": [
    "Make a `list` of this dict's `items`:"
   ]
  },
  {
   "cell_type": "code",
   "execution_count": 8,
   "metadata": {
    "cell_id": "00007-ae974064-af3e-4981-aa85-de4c73f0c7b4",
    "deepnote_cell_type": "code",
    "deepnote_to_be_reexecuted": false,
    "execution_millis": 1,
    "execution_start": 1634212145863,
    "source_hash": "888cd7e0",
    "tags": []
   },
   "outputs": [
    {
     "data": {
      "text/plain": [
       "[('red', 65), ('green', 3), ('blue', 10)]"
      ]
     },
     "execution_count": 8,
     "metadata": {},
     "output_type": "execute_result"
    }
   ],
   "source": [
    "brightnesses = {'red': 65, 'green': 3, 'blue': 10}\n",
    "items =list(brightnesses.items())\n",
    "items"
   ]
  },
  {
   "cell_type": "markdown",
   "metadata": {
    "cell_id": "00012-d7b96685-ab5f-4521-9317-27a26d8727da",
    "deepnote_cell_type": "markdown",
    "tags": []
   },
   "source": [
    "Write for-loop that prints each phone number in this dict"
   ]
  },
  {
   "cell_type": "code",
   "execution_count": 10,
   "metadata": {
    "cell_id": "00008-026ec291-9fe1-45c9-99cc-271fb8bb3042",
    "deepnote_cell_type": "code",
    "deepnote_to_be_reexecuted": false,
    "execution_millis": 1,
    "execution_start": 1634211722723,
    "source_hash": "b623e53d",
    "tags": []
   },
   "outputs": [
    {
     "name": "stdout",
     "output_type": "stream",
     "text": [
      "+49123343282\n",
      "+45328472022\n"
     ]
    }
   ],
   "source": [
    "phone_numbers = {'Ben': '+49123343282', 'Julie': '+45328472022'}\n",
    "for i in phone_numbers.values():\n",
    "    print(i)"
   ]
  },
  {
   "cell_type": "markdown",
   "metadata": {
    "cell_id": "00014-94a34465-dcff-4993-a31d-44778229a3da",
    "deepnote_cell_type": "markdown",
    "tags": []
   },
   "source": [
    "Write for-loop that prints, one at a time, the name and phone number of each person in this dict"
   ]
  },
  {
   "cell_type": "code",
   "execution_count": 11,
   "metadata": {
    "cell_id": "00009-561bc7f7-17f5-4fdc-8d6a-d6f90403cd2d",
    "deepnote_cell_type": "code",
    "deepnote_to_be_reexecuted": false,
    "execution_millis": 0,
    "execution_start": 1634212283895,
    "source_hash": "87392dc2",
    "tags": []
   },
   "outputs": [
    {
     "name": "stdout",
     "output_type": "stream",
     "text": [
      "('Ben', '+49123343282')\n",
      "('Julie', '+45328472022')\n"
     ]
    }
   ],
   "source": [
    "phone_numbers = {'Ben': '+49123343282', 'Julie': '+45328472022'}\n",
    "for i in phone_numbers.items():\n",
    "    print(i)"
   ]
  },
  {
   "cell_type": "markdown",
   "metadata": {
    "cell_id": "00016-7d394c29-0bb4-461e-b2ed-ca922208e3c4",
    "deepnote_cell_type": "markdown",
    "tags": []
   },
   "source": [
    "## Appending and Querying `Dicts`\n",
    "\n",
    "\n",
    "What makes `dicts` incredibly useful is that you can use them to ask for specific values without needing to know *when* it was entered into the `dict`; we only need to know the key.  For example, with the phone_numbers dict, we can get Ben's number by indexing his name:\n",
    "\n",
    "```python\n",
    ">>> phone_numbers = {'Ben': '+49123343282', 'Julie': '+45328472022'}\n",
    ">>> phone_numbers['Ben']\n",
    "'+49123343282'\n",
    "```\n",
    "\n",
    "If we want to add a number, it can be done using the same syntax:\n",
    "\n",
    "```python\n",
    ">>> phone_numbers = {}\n",
    ">>> phone_numbers['Nick'] = '+4917848367'\n",
    ">>> phone_numbers\n",
    "{'Nick': '+4917848367'}\n",
    "```\n",
    "\n",
    "Let's try it out!\n"
   ]
  },
  {
   "cell_type": "markdown",
   "metadata": {
    "cell_id": "00017-4bc2281c-bd48-432e-bc43-3394c5b4eaae",
    "deepnote_cell_type": "markdown",
    "tags": []
   },
   "source": [
    "**Exercises**"
   ]
  },
  {
   "cell_type": "markdown",
   "metadata": {
    "cell_id": "00017-1e4c4022-9fa0-474d-b89c-ef7ed147cee7",
    "deepnote_cell_type": "markdown",
    "tags": []
   },
   "source": [
    "Starting with an empty `dict`, add each of the kindergartners' favorite colors:\n",
    "\n",
    "  - Amy loves yellow\n",
    "  - James adores yellow\n",
    "  - Julia worships beige\n",
    "  - Johnny likes red"
   ]
  },
  {
   "cell_type": "markdown",
   "metadata": {
    "cell_id": "00019-ec2f071e-4535-4080-a313-751ab829720a",
    "deepnote_cell_type": "markdown",
    "tags": []
   },
   "source": [
    "Use the dict created above to have Python answer the following questions:"
   ]
  },
  {
   "cell_type": "markdown",
   "metadata": {
    "cell_id": "00020-8b6ebcba-1b4b-4a39-ba55-e70fd8d0156d",
    "deepnote_cell_type": "markdown",
    "tags": []
   },
   "source": [
    "What is James' favorite color?"
   ]
  },
  {
   "cell_type": "code",
   "execution_count": 12,
   "metadata": {
    "cell_id": "00016-ce176847-ca9e-459c-a326-660146b1f7c9",
    "deepnote_cell_type": "code",
    "deepnote_to_be_reexecuted": false,
    "execution_millis": 0,
    "execution_start": 1634216232396,
    "source_hash": "b623e53d",
    "tags": []
   },
   "outputs": [],
   "source": [
    "colors = {}"
   ]
  },
  {
   "cell_type": "code",
   "execution_count": 16,
   "metadata": {},
   "outputs": [
    {
     "data": {
      "text/plain": [
       "'yellow'"
      ]
     },
     "execution_count": 16,
     "metadata": {},
     "output_type": "execute_result"
    }
   ],
   "source": [
    "colors[\"Amy\"] = \"yellow\"\n",
    "colors[\"James\"] = \"yellow\"\n",
    "colors[\"Julia\"] = \"beige\"\n",
    "colors[\"Johnny\"] =\"red\"\n",
    "colors[\"James\"]"
   ]
  },
  {
   "cell_type": "markdown",
   "metadata": {
    "cell_id": "00022-ed8b42bc-6551-4945-a991-e68187396f16",
    "deepnote_cell_type": "markdown",
    "tags": []
   },
   "source": [
    "What is Julia's favorite color?"
   ]
  },
  {
   "cell_type": "code",
   "execution_count": 17,
   "metadata": {
    "cell_id": "00020-4289e405-d366-4782-b953-e2b0f6efc3dd",
    "deepnote_cell_type": "code",
    "deepnote_to_be_reexecuted": false,
    "execution_millis": 1,
    "execution_start": 1634216396407,
    "source_hash": "b623e53d",
    "tags": []
   },
   "outputs": [
    {
     "data": {
      "text/plain": [
       "'beige'"
      ]
     },
     "execution_count": 17,
     "metadata": {},
     "output_type": "execute_result"
    }
   ],
   "source": [
    "colors[\"Julia\"]"
   ]
  },
  {
   "cell_type": "markdown",
   "metadata": {
    "cell_id": "00024-94436d30-a95f-4950-a8ff-0ed513c335c9",
    "deepnote_cell_type": "markdown",
    "tags": []
   },
   "source": [
    "Make the same `dict` by looping through these two lists\n",
    "\n",
    "*Tip:* `zip()` is helpful here"
   ]
  },
  {
   "cell_type": "code",
   "execution_count": 55,
   "metadata": {
    "cell_id": "00025-c30118e4-5099-42e6-a5e3-4d397e472b9f",
    "deepnote_cell_type": "code",
    "tags": []
   },
   "outputs": [
    {
     "data": {
      "text/plain": [
       "{'Amy': 'yellow', 'James': 'yellow', 'Julia': 'beige', 'Johnny': 'red'}"
      ]
     },
     "execution_count": 55,
     "metadata": {},
     "output_type": "execute_result"
    }
   ],
   "source": [
    "names = ['Amy', 'James', 'Julia', 'Johnny']\n",
    "colors = ['yellow', 'yellow', 'beige', 'red']\n",
    "colorz = {}\n",
    "for name, color in zip(names, colors):\n",
    "    colorz[name]=color\n",
    "colorz"
   ]
  },
  {
   "cell_type": "code",
   "execution_count": 56,
   "metadata": {},
   "outputs": [
    {
     "data": {
      "text/plain": [
       "{'yellow': 'James', 'beige': 'Julia', 'red': 'Johnny'}"
      ]
     },
     "execution_count": 56,
     "metadata": {},
     "output_type": "execute_result"
    }
   ],
   "source": [
    "new_dic={}\n",
    "for k, i in colorz.items():\n",
    "    new_dic[i]=k\n",
    "new_dic"
   ]
  },
  {
   "cell_type": "code",
   "execution_count": 29,
   "metadata": {},
   "outputs": [
    {
     "data": {
      "text/plain": [
       "{'Amy': 'yellow', 'James': 'yellow', 'Julia': 'beige', 'Johnny': 'red'}"
      ]
     },
     "execution_count": 29,
     "metadata": {},
     "output_type": "execute_result"
    }
   ],
   "source": [
    "dict(list(zip(names, colors)))"
   ]
  },
  {
   "cell_type": "markdown",
   "metadata": {
    "cell_id": "00020-4e89f697-7131-4906-b919-56c38ec5196e",
    "deepnote_cell_type": "markdown",
    "tags": []
   },
   "source": [
    "**Challenge**: Who has \"red\" as a favorite color?\n",
    "\n",
    "*Note*: To do this, you'll first need to create a dict that has colors as keys and names as values!"
   ]
  },
  {
   "cell_type": "code",
   "execution_count": 60,
   "metadata": {
    "cell_id": "00025-67ccd931-0a1c-4e9f-b5f7-815e1317cff4",
    "deepnote_cell_type": "code",
    "tags": []
   },
   "outputs": [
    {
     "data": {
      "text/plain": [
       "['Johnny']"
      ]
     },
     "execution_count": 60,
     "metadata": {},
     "output_type": "execute_result"
    }
   ],
   "source": [
    "names = ['Amy', 'James', 'Julia', 'Johnny']\n",
    "colors = ['yellow', 'yellow', 'beige', 'red']\n",
    "color2={}\n",
    "for name, color in zip(names, colors):\n",
    "    if color not in color2.keys():\n",
    "        color2[color]= [name]\n",
    "    else:\n",
    "        color2[color].append(name)\n",
    "\n",
    "color2\n",
    "color2[\"red\"]"
   ]
  },
  {
   "cell_type": "markdown",
   "metadata": {
    "cell_id": "00025-0dd82737-1870-4fa5-800d-845954703388",
    "deepnote_cell_type": "markdown",
    "tags": []
   },
   "source": [
    "Who has \"yellow\" as a favorite color?\n",
    "\n",
    "*Note*: If the answer surprises you, you've solved it!  Discuss why it is, and what to do to work around this problem."
   ]
  },
  {
   "cell_type": "code",
   "execution_count": 59,
   "metadata": {},
   "outputs": [
    {
     "data": {
      "text/plain": [
       "['Amy', 'James']"
      ]
     },
     "execution_count": 59,
     "metadata": {},
     "output_type": "execute_result"
    }
   ],
   "source": [
    "color2[\"yellow\"]"
   ]
  },
  {
   "cell_type": "markdown",
   "metadata": {
    "cell_id": "00027-f318248b-8f6e-481f-a283-4593a2172cf5",
    "deepnote_cell_type": "markdown",
    "tags": []
   },
   "source": []
  },
  {
   "cell_type": "markdown",
   "metadata": {
    "cell_id": "00028-63734f7f-5d71-4df2-a574-4d5ac11effad",
    "deepnote_cell_type": "markdown",
    "tags": []
   },
   "source": [
    "## Looping through Dicts\n",
    "\n",
    "Keys and Values in `dicts` work the same as with lists.  To get both to work like a zipped list, use `items()`:\n",
    "\n",
    "```python\n",
    "phone_numbers = {'Ben': '+49123343282', 'Julie': '+45328472022'}\n",
    "for name in phone_numbers.keys():\n",
    "    print(name)\n",
    "\n",
    "for number in phone_numbers.values():\n",
    "    print(number)\n",
    "\n",
    "for name, number in phone_numbers.items():\n",
    "    print(name, number)\n",
    "```\n"
   ]
  },
  {
   "cell_type": "markdown",
   "metadata": {
    "cell_id": "00029-734a8859-b499-40ea-9b52-da237f899a05",
    "deepnote_cell_type": "markdown",
    "tags": []
   },
   "source": [
    "**Exercises**"
   ]
  },
  {
   "cell_type": "markdown",
   "metadata": {
    "cell_id": "00030-484ef68a-05b3-4e7a-84cf-af6294e58379",
    "deepnote_cell_type": "markdown",
    "tags": []
   },
   "source": [
    "Write a loop that Prints each sequence in this dict:"
   ]
  },
  {
   "cell_type": "code",
   "execution_count": 61,
   "metadata": {
    "cell_id": "00031-f88a06d1-1b8e-4422-89e6-83bf006385cf",
    "deepnote_cell_type": "code",
    "deepnote_to_be_reexecuted": false,
    "execution_millis": 2,
    "execution_start": 1634217242022,
    "source_hash": "85bace18",
    "tags": []
   },
   "outputs": [
    {
     "name": "stdout",
     "output_type": "stream",
     "text": [
      "CATAACA\n",
      "GCCGTG\n",
      "CCATAAA\n"
     ]
    }
   ],
   "source": [
    "seqs = {'Monday': \"CATAACA\", 'Tuesday': \"GCCGTG\", 'Wednesday': \"CCATAAA\"}\n",
    "for seq in seqs.values():\n",
    "    print(seq)\n"
   ]
  },
  {
   "cell_type": "markdown",
   "metadata": {
    "cell_id": "00031-498ff5cb-b4d0-4139-b9c1-981344b555e9",
    "deepnote_cell_type": "markdown",
    "tags": []
   },
   "source": [
    "Print both the day of the week and the sequence in a loop"
   ]
  },
  {
   "cell_type": "code",
   "execution_count": 63,
   "metadata": {
    "cell_id": "00033-0d4f762d-55ca-4bab-b7f5-4e427b19ac07",
    "deepnote_cell_type": "code",
    "deepnote_to_be_reexecuted": false,
    "execution_millis": 1,
    "execution_start": 1634217552403,
    "source_hash": "d96eca3b",
    "tags": []
   },
   "outputs": [
    {
     "name": "stdout",
     "output_type": "stream",
     "text": [
      "Days:  Monday | Week: CATAACA\n",
      "Days:  Tuesday | Week: GCCGTG\n",
      "Days:  Wednesday | Week: CCATAAA\n"
     ]
    }
   ],
   "source": [
    "seqs = {'Monday': \"CATAACA\", 'Tuesday': \"GCCGTG\", 'Wednesday': \"CCATAAA\"}\n",
    "for day,seq in seqs.items():\n",
    "    print(\"Days: \", day, \"| Week:\", seq)"
   ]
  },
  {
   "cell_type": "markdown",
   "metadata": {
    "cell_id": "00033-7a7d297b-8ed9-43fc-977a-5587d1ddb88f",
    "deepnote_cell_type": "markdown",
    "tags": []
   },
   "source": [
    "Let's look at some richer data structures, combining dicts and lists together:"
   ]
  },
  {
   "cell_type": "markdown",
   "metadata": {
    "cell_id": "00033-d2dc2286-2080-47c1-bc81-bac32796a85a",
    "deepnote_cell_type": "markdown",
    "tags": []
   },
   "source": [
    "For each sequence, print the bacteria id next to it.  For example:\n",
    "```\n",
    "BacteriaID Sequence\n",
    "3252 GCCAGGA\n",
    "3252 CCCAGGA\n",
    "1466 CAAGATGA\n",
    "...\n",
    "```"
   ]
  },
  {
   "cell_type": "code",
   "execution_count": 65,
   "metadata": {
    "cell_id": "00036-7f3445b5-18bd-4f16-84d5-25f13e75d0e8",
    "deepnote_cell_type": "code",
    "deepnote_to_be_reexecuted": false,
    "execution_millis": 8,
    "execution_start": 1634217962455,
    "source_hash": "146204e5",
    "tags": []
   },
   "outputs": [
    {
     "name": "stdout",
     "output_type": "stream",
     "text": [
      "BacteriaID Sequence\n",
      "3252 GCCAGGA\n",
      "3252 CCCAGGA\n",
      "1466 CAAGATGA\n",
      "1466 CCACATA\n",
      "6223 CCAACTAG\n",
      "6223 CACCAC\n"
     ]
    }
   ],
   "source": [
    "seqs = {\n",
    "    3252: [\"GCCAGGA\", \"CCCAGGA\"],\n",
    "    1466: [\"CAAGATGA\", \"CCACATA\"],\n",
    "    6223: [\"CCAACTAG\", \"CACCAC\"],\n",
    "}\n",
    "print(\"BacteriaID\", \"Sequence\")\n",
    "for num, seq in seqs.items():\n",
    "    for one in seq:\n",
    "        print(num, one)\n",
    "    "
   ]
  },
  {
   "cell_type": "markdown",
   "metadata": {
    "cell_id": "00037-71319fa8-ea75-465a-94da-01bd13c295bd",
    "deepnote_cell_type": "markdown",
    "tags": []
   },
   "source": [
    "Using the same dict, print the total number of C's in all sequences for each bacteria\n",
    "For example:\n",
    "```\n",
    "BacteriaID TotalC \n",
    "3252 5\n",
    "...\n",
    "```"
   ]
  },
  {
   "cell_type": "code",
   "execution_count": null,
   "metadata": {
    "cell_id": "00037-91dcf5c2-b188-423a-9f14-04d6fde33be4",
    "deepnote_cell_type": "code",
    "tags": []
   },
   "outputs": [],
   "source": []
  },
  {
   "cell_type": "markdown",
   "metadata": {
    "cell_id": "00039-561c7102-a480-4c4f-b155-1a453cf9f875",
    "deepnote_cell_type": "markdown",
    "tags": []
   },
   "source": [
    "print the number of Ts in all of the sequences, totalled\n",
    "\n",
    "```Total T Count: 3```"
   ]
  },
  {
   "cell_type": "markdown",
   "metadata": {
    "cell_id": "00040-77406fba-6050-4cd2-93eb-b06df91909dd",
    "deepnote_cell_type": "markdown",
    "tags": []
   },
   "source": [
    "For each sequence, print the bacteria id and Day of Week next to it.  For example:\n",
    "```\n",
    "BacteriaID Sequence DayOfWeek\n",
    "3252 GCCAGGA Monday\n",
    "3252 CCCAGGA Monday\n",
    "1466 CAAGATGA Monday\n",
    "...\n",
    "```"
   ]
  },
  {
   "cell_type": "code",
   "execution_count": null,
   "metadata": {
    "cell_id": "00042-fd3187c3-4cbb-46cd-8c40-1afbccc8703b",
    "deepnote_cell_type": "code",
    "deepnote_to_be_reexecuted": false,
    "execution_millis": 1,
    "execution_start": 1634218330305,
    "source_hash": "d07c196f",
    "tags": []
   },
   "outputs": [],
   "source": [
    "seqs = [\n",
    "    {'Monday': {3252: \"GCCAGGA\", 1466: \"CAAGATGA\", 6223: \"CCAACTAG\"}},\n",
    "    {'Tuesday': {3252: \"CCCAGGA\", 1466: \"CCACATA\", 6223: \"CACCAC\"}},\n",
    "]\n"
   ]
  },
  {
   "cell_type": "markdown",
   "metadata": {
    "cell_id": "00042-b65a7926-46e2-4c8e-9e2f-c36f0c9a0831",
    "deepnote_cell_type": "markdown",
    "tags": []
   },
   "source": [
    "Write the above to a file called \"sequences.tsv\""
   ]
  },
  {
   "cell_type": "code",
   "execution_count": null,
   "metadata": {
    "cell_id": "00042-e225bf09-da9e-4c17-81e2-b65a4063e539",
    "deepnote_cell_type": "code",
    "tags": []
   },
   "outputs": [],
   "source": []
  },
  {
   "cell_type": "markdown",
   "metadata": {
    "created_in_deepnote_cell": true,
    "deepnote_cell_type": "markdown",
    "tags": []
   },
   "source": [
    "<a style='text-decoration:none;line-height:16px;display:flex;color:#5B5B62;padding:10px;justify-content:end;' href='https://deepnote.com?utm_source=created-in-deepnote-cell&projectId=79696a98-709a-4729-b1aa-af4bf3c33168' target=\"_blank\">\n",
    "<img alt='Created in deepnote.com' style='display:inline;max-height:16px;margin:0px;margin-right:7.5px;' src='data:image/svg+xml;base64,PD94bWwgdmVyc2lvbj0iMS4wIiBlbmNvZGluZz0iVVRGLTgiPz4KPHN2ZyB3aWR0aD0iODBweCIgaGVpZ2h0PSI4MHB4IiB2aWV3Qm94PSIwIDAgODAgODAiIHZlcnNpb249IjEuMSIgeG1sbnM9Imh0dHA6Ly93d3cudzMub3JnLzIwMDAvc3ZnIiB4bWxuczp4bGluaz0iaHR0cDovL3d3dy53My5vcmcvMTk5OS94bGluayI+CiAgICA8IS0tIEdlbmVyYXRvcjogU2tldGNoIDU0LjEgKDc2NDkwKSAtIGh0dHBzOi8vc2tldGNoYXBwLmNvbSAtLT4KICAgIDx0aXRsZT5Hcm91cCAzPC90aXRsZT4KICAgIDxkZXNjPkNyZWF0ZWQgd2l0aCBTa2V0Y2guPC9kZXNjPgogICAgPGcgaWQ9IkxhbmRpbmciIHN0cm9rZT0ibm9uZSIgc3Ryb2tlLXdpZHRoPSIxIiBmaWxsPSJub25lIiBmaWxsLXJ1bGU9ImV2ZW5vZGQiPgogICAgICAgIDxnIGlkPSJBcnRib2FyZCIgdHJhbnNmb3JtPSJ0cmFuc2xhdGUoLTEyMzUuMDAwMDAwLCAtNzkuMDAwMDAwKSI+CiAgICAgICAgICAgIDxnIGlkPSJHcm91cC0zIiB0cmFuc2Zvcm09InRyYW5zbGF0ZSgxMjM1LjAwMDAwMCwgNzkuMDAwMDAwKSI+CiAgICAgICAgICAgICAgICA8cG9seWdvbiBpZD0iUGF0aC0yMCIgZmlsbD0iIzAyNjVCNCIgcG9pbnRzPSIyLjM3NjIzNzYyIDgwIDM4LjA0NzY2NjcgODAgNTcuODIxNzgyMiA3My44MDU3NTkyIDU3LjgyMTc4MjIgMzIuNzU5MjczOSAzOS4xNDAyMjc4IDMxLjY4MzE2ODMiPjwvcG9seWdvbj4KICAgICAgICAgICAgICAgIDxwYXRoIGQ9Ik0zNS4wMDc3MTgsODAgQzQyLjkwNjIwMDcsNzYuNDU0OTM1OCA0Ny41NjQ5MTY3LDcxLjU0MjI2NzEgNDguOTgzODY2LDY1LjI2MTk5MzkgQzUxLjExMjI4OTksNTUuODQxNTg0MiA0MS42NzcxNzk1LDQ5LjIxMjIyODQgMjUuNjIzOTg0Niw0OS4yMTIyMjg0IEMyNS40ODQ5Mjg5LDQ5LjEyNjg0NDggMjkuODI2MTI5Niw0My4yODM4MjQ4IDM4LjY0NzU4NjksMzEuNjgzMTY4MyBMNzIuODcxMjg3MSwzMi41NTQ0MjUgTDY1LjI4MDk3Myw2Ny42NzYzNDIxIEw1MS4xMTIyODk5LDc3LjM3NjE0NCBMMzUuMDA3NzE4LDgwIFoiIGlkPSJQYXRoLTIyIiBmaWxsPSIjMDAyODY4Ij48L3BhdGg+CiAgICAgICAgICAgICAgICA8cGF0aCBkPSJNMCwzNy43MzA0NDA1IEwyNy4xMTQ1MzcsMC4yNTcxMTE0MzYgQzYyLjM3MTUxMjMsLTEuOTkwNzE3MDEgODAsMTAuNTAwMzkyNyA4MCwzNy43MzA0NDA1IEM4MCw2NC45NjA0ODgyIDY0Ljc3NjUwMzgsNzkuMDUwMzQxNCAzNC4zMjk1MTEzLDgwIEM0Ny4wNTUzNDg5LDc3LjU2NzA4MDggNTMuNDE4MjY3Nyw3MC4zMTM2MTAzIDUzLjQxODI2NzcsNTguMjM5NTg4NSBDNTMuNDE4MjY3Nyw0MC4xMjg1NTU3IDM2LjMwMzk1NDQsMzcuNzMwNDQwNSAyNS4yMjc0MTcsMzcuNzMwNDQwNSBDMTcuODQzMDU4NiwzNy43MzA0NDA1IDkuNDMzOTE5NjYsMzcuNzMwNDQwNSAwLDM3LjczMDQ0MDUgWiIgaWQ9IlBhdGgtMTkiIGZpbGw9IiMzNzkzRUYiPjwvcGF0aD4KICAgICAgICAgICAgPC9nPgogICAgICAgIDwvZz4KICAgIDwvZz4KPC9zdmc+' > </img>\n",
    "Created in <span style='font-weight:600;margin-left:4px;'>Deepnote</span></a>"
   ]
  }
 ],
 "metadata": {
  "deepnote": {
   "is_reactive": false
  },
  "deepnote_execution_queue": [],
  "deepnote_notebook_id": "125ddd91-b676-4a39-9b9c-6a9dbafec010",
  "kernelspec": {
   "display_name": "Python 3",
   "language": "python",
   "name": "python3"
  },
  "language_info": {
   "codemirror_mode": {
    "name": "ipython",
    "version": 3
   },
   "file_extension": ".py",
   "mimetype": "text/x-python",
   "name": "python",
   "nbconvert_exporter": "python",
   "pygments_lexer": "ipython3",
   "version": "3.7.6"
  }
 },
 "nbformat": 4,
 "nbformat_minor": 2
}
